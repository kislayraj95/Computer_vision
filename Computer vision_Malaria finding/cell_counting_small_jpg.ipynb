{
  "cells": [
    {
      "cell_type": "code",
      "execution_count": 1,
      "metadata": {
        "id": "0JOWGJycDPXb"
      },
      "outputs": [],
      "source": [
        "import skimage.io as io\n",
        "import numpy as np\n",
        "from skimage.color import rgb2gray\n",
        "from skimage.filters import sobel"
      ]
    },
    {
      "cell_type": "code",
      "execution_count": 2,
      "metadata": {
        "id": "cSIXc0E5DZHJ"
      },
      "outputs": [],
      "source": [
        "# This function is provided to you. You will need to call it.\n",
        "# You should not need to modify it.\n",
        "def seedfill(im, seed_row, seed_col, fill_color, bckg):\n",
        "    \"\"\"\n",
        "    im: The image on which to perform the seedfill algorithm\n",
        "    seed_row and seed_col: position of the seed pixel\n",
        "    fill_color: Color for the fill\n",
        "    bckg: Color of the background, to be filled\n",
        "    Returns: Number of pixels filled\n",
        "    Behavior: Modifies image by performing seedfill\n",
        "    \"\"\"\n",
        "    size=0  # keep track of patch size\n",
        "    n_row, n_col = im.shape\n",
        "    front={(seed_row,seed_col)}  # initial front\n",
        "    while len(front)>0:\n",
        "        r, c = front.pop()  # remove an element from front\n",
        "        if im[r, c]==bckg: \n",
        "            im[r, c]=fill_color  # color the pixel\n",
        "            size+=1\n",
        "            # look at all neighbors\n",
        "            for i in range(max(0,r-1), min(n_row,r+2)):\n",
        "                for j in range(max(0,c-1),min(n_col,c+2)):\n",
        "                    # if background, add to front\n",
        "                    if im[i,j]==bckg and\\\n",
        "                       (i,j) not in front:\n",
        "                        front.add((i,j))\n",
        "    return size"
      ]
    },
    {
      "cell_type": "code",
      "execution_count": 12,
      "metadata": {
        "id": "nhI6KjnLDdh0"
      },
      "outputs": [],
      "source": [
        "# QUESTION 1\n",
        "def detect_edges(image_color):\n",
        "    \"\"\"\n",
        "    Args:\n",
        "        image_color: the original color image read from an image_file\n",
        "    Returns:         \n",
        "        image_graytone: a grayscale image converted from the original image\n",
        "        image_sobel: a new image of detected edges\n",
        "    \"\"\"\n",
        "    # WRITE YOUR CODE HERE\n",
        "    image_graytone = rgb2gray(image_color) # converting to grayscale\n",
        "    image_sobel = sobel(image_graytone) # applying the Sobel filter\n",
        "    return image_graytone, image_sobel\n"
      ]
    },
    {
      "cell_type": "code",
      "execution_count": 17,
      "metadata": {
        "id": "6ZahyrYZDmYy"
      },
      "outputs": [],
      "source": [
        "# QUESTION 2\n",
        "def binarize_edges(image_sobel1):\n",
        "    \"\"\"\n",
        "    Args:\n",
        "        image_sobel1: an ndarray as the initial edge detected image from Q1\n",
        "    Returns: \n",
        "        image_sobel2: a new image where the pixels whose value grear or equal to \n",
        "        0.05 are set to 1; othewise to 0\n",
        "    \"\"\"    \n",
        "    # WRITE YOUR CODE HERE\n",
        "    image_sobel2 = np.where(image_sobel1>0.05, 1.0, 0.0) # binarizing the image\n",
        "    return image_sobel2\n"
      ]
    },
    {
      "cell_type": "code",
      "execution_count": 23,
      "metadata": {
        "id": "9oEAayzMDn4a"
      },
      "outputs": [],
      "source": [
        "# QUESTION 3\n",
        "def cleanup(image_graytone, image_sobel2):\n",
        "    \"\"\"\n",
        "    Args:\n",
        "        image_graytone: the grayscale image from Q1\n",
        "        image_sobel2: the image from Q2 where pixel value is either 0 or 1\n",
        "    Returns: \n",
        "        image_sobel3: a modified version of image_sobel2, where any white pixel at \n",
        "        position (r,c) is replaced by a black pixel if the value of pixel (r,c) \n",
        "        or of any of the 8 surrounding pixels in image_graytone image is below 0.5. \n",
        "    \"\"\"    \n",
        "    # WRITE YOUR CODE HERE\n",
        "    nrow, ncol = image_sobel2.shape # getting the dimensions of the image\n",
        "    for r in range(nrow): # iterating over the rows\n",
        "        for c in range(ncol): # iterating over the columns\n",
        "            if (image_graytone[r, c])<0.5: # checking if the pixel is below 0.5\n",
        "                image_sobel2[r, c] = 0.0 # setting the pixel to 0\n",
        "            else: # if the pixel is above 0.5\n",
        "                if r-1 in range(nrow): # checking if the r is in the range\n",
        "                    if image_graytone[r-1, c]<0.5: # checking if the pixel is below 0.5\n",
        "                        image_sobel2[r, c] = 0.0 # setting the pixel to 0\n",
        "                    if c-1 in range(nrow): # checking if the column is in the range\n",
        "                        if image_graytone[r, c-1]<0.5: # checking if the pixel is below 0.5\n",
        "                            image_sobel2[r, c] = 0.0 # setting the pixel to 0\n",
        "                        elif image_graytone[r-1, c-1]<0.5: # checking if the pixel is below 0.5\n",
        "                            image_sobel2[r, c] = 0.0 # setting the pixel to 0\n",
        "                    if c+1 in range(nrow): # checking if the column is in the range\n",
        "                        if image_graytone[r, c+1]<0.5: # checking if the pixel is below 0.5\n",
        "                            image_sobel2[r, c] = 0.0 # setting the pixel to 0\n",
        "                        elif image_graytone[r-1, c+1]<0.5: # checking if the pixel is below 0.5\n",
        "                            image_sobel2[r, c] = 0.0 # setting the pixel to 0 \n",
        "                if r+1 in range(nrow): # checking if the r is in the range\n",
        "                    if image_graytone[r+1, c]<0.5: # checking if the pixel is below 0.5\n",
        "                        image_sobel2[r, c] = 0.0 # setting the pixel to 0\n",
        "                    if c+1 in range(ncol): # checking if the column is in the range\n",
        "                        if image_graytone[r, c+1]<0.5: # checking if the pixel is below 0.5\n",
        "                            image_sobel2[r, c] = 0.0 # setting the pixel to 0\n",
        "                        elif image_graytone[r+1, c+1]<0.5: # checking if the pixel is below 0.5\n",
        "                            image_sobel2[r, c] = 0.0 # setting the pixel to 0\n",
        "                    if c-1 in range(ncol): # checking if the column is in the range\n",
        "                        if image_graytone[r, c-1]<0.5: # checking if the pixel is below 0.5\n",
        "                            image_sobel2[r, c] = 0.0 # setting the pixel to 0\n",
        "                        elif image_graytone[r+1, c-1]<0.5: # checking if the pixel is below 0.5\n",
        "                            image_sobel2[r, c] = 0.0 # setting the pixel to 0\n",
        "    return image_sobel2"
      ]
    },
    {
      "cell_type": "code",
      "execution_count": 31,
      "metadata": {
        "id": "3n93jvHnDpb-"
      },
      "outputs": [],
      "source": [
        "# QUESTION 4\n",
        "def fill_cells(image_sobel3):\n",
        "    \"\"\"\n",
        "    Args:\n",
        "        edge_image: A black-and-white image, with black background and\n",
        "                    white edges\n",
        "    Returns: \n",
        "        filled_image: A new image where each close region is filled with \n",
        "                    a different grayscale value\n",
        "    \"\"\"\n",
        "    # WRITE YOUR CODE HERE\n",
        "    filled_image = image_sobel3.copy() # copying the image because it somehow gave an error if I didn't\n",
        "    nrow, ncol = filled_image.shape # getting the dimensions of the image\n",
        "    fill_colour = 0.5 \n",
        "    seedfill(filled_image, 0, 0, 0.1, 0.0) \n",
        "    for r in range(nrow):\n",
        "        for c in range(ncol):\n",
        "            if filled_image[r, c] == 0.0:\n",
        "                seedfill(filled_image, r, c, fill_colour, 0.0) \n",
        "                fill_colour += 0.001\n",
        "    return filled_image"
      ]
    },
    {
      "cell_type": "code",
      "execution_count": 27,
      "metadata": {
        "id": "O-Ow0X-qDqrD"
      },
      "outputs": [],
      "source": [
        "# QUESTION 5\n",
        "def classify_cells(image_graytone, filled_image, \\\n",
        "                   min_size=1000, max_size=5000, \\\n",
        "                   infected_grayscale=0.5, min_infected_percentage=0.02):\n",
        "    \"\"\"\n",
        "    Args:\n",
        "        image_graytone: The graytone image from Q1\n",
        "        filled_image: A graytone image, with each closed region colored\n",
        "                       with a different grayscal value from Q4\n",
        "        min_size, max_size: \n",
        "            The min and max size of a region to be called a cell\n",
        "        infected_grayscale: \n",
        "            Maximum grayscale value for a pixel to be called infected\n",
        "        min_infected_percentage: \n",
        "            Smallest fraction of dark pixels needed to call a cell infected\n",
        "    Returns: A tuple of two sets, containing the grayscale values of cells \n",
        "             that are infected and not infected\n",
        "    \"\"\"\n",
        "    # WRITE YOUR CODE HERE\n",
        "    nrow, ncol = image_graytone.shape # getting the dimensions of the image\n",
        "    all_greyscale_values = set() # creating a set to store all the grayscale values\n",
        "    for r in range(nrow):\n",
        "        for c in range(ncol):\n",
        "            # Adding the grayscale values from filled_image to the set\n",
        "            all_greyscale_values.add(filled_image[r, c])\n",
        "    infected = set() # creating a set to store the infected grayscale values\n",
        "    not_infected = set() # creating a set to store the not infected grayscale values\n",
        "    for value in all_greyscale_values: # iterating over the set\n",
        "        g_count = 0 # to count the number of pixels with the same grayscale value\n",
        "        infected_count = 0 # to count the number of pixels with infected grayscale value\n",
        "        for r in range(nrow):\n",
        "            for c in range(ncol):     \n",
        "                if filled_image[r, c] == value: # checking if the grayscale value is the same\n",
        "                    g_count += 1 # incrementing the g_count\n",
        "                    if image_graytone[r, c] <= infected_grayscale: # checking if the pixel is infected\n",
        "                        infected_count += 1 # incrementing the infected count\n",
        "        # checking if the area with the grayscale value can be considered a cell using size\n",
        "        if g_count >= min_size and g_count <= max_size: \n",
        "            if (g_count*min_infected_percentage) > infected_count: # checking if the percentage of infected pixels is greater than the minimum percentage\n",
        "                not_infected.add(value)\n",
        "            elif (g_count*min_infected_percentage) <= infected_count: # checking if the percentage of infected pixels is less than or equal to the minimum percentage\n",
        "                infected.add(value)\n",
        "    return infected, not_infected"
      ]
    },
    {
      "cell_type": "code",
      "execution_count": 29,
      "metadata": {
        "id": "xeh0rp59DsOe"
      },
      "outputs": [],
      "source": [
        "# QUESTION 6\n",
        "def annotate_image(color_image, filled_image, infected, not_infected):\n",
        "    \"\"\"\n",
        "    Args:\n",
        "        image_color: the original color image read from image_file in Q1\n",
        "        filled_image: A graytone image, with each closed region colored\n",
        "                       with a different grayscal value in Q4\n",
        "        infected: A set of graytone values of infected cells\n",
        "        not_infected: A set of graytone values of non-infcted cells\n",
        "    Returns: A color image, with infected cells highlighted in red\n",
        "             and non-infected cells highlighted in green\n",
        "    \"\"\"    \n",
        "    # WRITE YOUR CODE HERE\n",
        "    new_colour_image = color_image.copy() # copying the image because it somehow gave an error if I didn't\n",
        "    nrow, ncol = filled_image.shape # getting the dimensions of the image\n",
        "    for r in range(nrow):\n",
        "        for c in range(ncol):\n",
        "            if filled_image[r, c] in infected: # checking if the grayscale value is infected\n",
        "                if r-1 in range(nrow): # checking if the row is in the range\n",
        "                    if filled_image[r-1, c] == 1.0:\n",
        "                        new_colour_image[r, c] = [255, 0, 0]\n",
        "                    if c-1 in range(nrow): # checking if the column is in the range\n",
        "                        if filled_image[r, c-1] == 1.0:\n",
        "                            new_colour_image[r, c] = [255, 0, 0]\n",
        "                        elif filled_image[r-1, c-1] == 1.0:\n",
        "                            new_colour_image[r, c] = [255, 0, 0]\n",
        "                    if c+1 in range(nrow): # checking if the column is in the range\n",
        "                        if filled_image[r, c+1] == 1.0:\n",
        "                            new_colour_image[r, c] = [255, 0, 0]\n",
        "                        elif filled_image[r-1, c+1]<0.5: \n",
        "                            new_colour_image[r, c] = [255, 0, 0]      \n",
        "                if r+1 in range(nrow): # checking if the row is in the range\n",
        "                    if filled_image[r+1, c] == 1.0:\n",
        "                        new_colour_image[r, c] = [255, 0, 0]\n",
        "                    if c+1 in range(ncol): # checking if the column is in the range\n",
        "                        if filled_image[r, c+1] == 1.0:\n",
        "                            new_colour_image[r, c] = [255, 0, 0]\n",
        "                        elif filled_image[r+1, c+1] == 1.0:\n",
        "                            new_colour_image[r, c] = [255, 0, 0]\n",
        "                    if c-1 in range(ncol): # checking if the column is in the range\n",
        "                        if filled_image[r, c-1] == 1.0:\n",
        "                            new_colour_image[r, c] = [255, 0, 0]\n",
        "                        elif filled_image[r+1, c-1] == 1.0:\n",
        "                            new_colour_image[r, c] = [255, 0, 0]  \n",
        "            elif filled_image[r, c] in not_infected: # checking if the grayscale value is not infected\n",
        "                if r-1 in range(nrow): # checking if the row is in the range\n",
        "                    if filled_image[r-1, c] == 1.0:\n",
        "                        new_colour_image[r, c] = [0, 255, 0]\n",
        "                    if c-1 in range(nrow): # checking if the column is in the range\n",
        "                        if filled_image[r, c-1] == 1.0:\n",
        "                            new_colour_image[r, c] = [0, 255, 0]\n",
        "                        elif filled_image[r-1, c-1] == 1.0:\n",
        "                            new_colour_image[r, c] = [0, 255, 0]\n",
        "                    if c+1 in range(nrow): # checking if the column is in the range\n",
        "                        if filled_image[r, c+1] == 1.0:\n",
        "                            new_colour_image[r, c] = [0, 255, 0]\n",
        "                        elif filled_image[r-1, c+1]<0.5:\n",
        "                            new_colour_image[r, c] = [0, 255, 0]\n",
        "                if r+1 in range(nrow): # checking if the row is in the range\n",
        "                    if filled_image[r+1, c] == 1.0:\n",
        "                        new_colour_image[r, c] = [0, 255, 0]\n",
        "                    if c+1 in range(ncol): # checking if the column is in the range\n",
        "                        if filled_image[r, c+1] == 1.0:\n",
        "                            new_colour_image[r, c] = [0, 255, 0]\n",
        "                        elif filled_image[r+1, c+1] == 1.0:\n",
        "                            new_colour_image[r, c] = [0, 255, 0]\n",
        "                    if c-1 in range(ncol): # checking if the column is in the range\n",
        "                        if filled_image[r, c-1] == 1.0:\n",
        "                            new_colour_image[r, c] = [0, 255, 0]\n",
        "                        elif filled_image[r+1, c-1] == 1.0:\n",
        "                            new_colour_image[r, c] = [0, 255, 0]\n",
        "    return new_colour_image"
      ]
    },
    {
      "cell_type": "code",
      "execution_count": 30,
      "metadata": {
        "colab": {
          "base_uri": "https://localhost:8080/"
        },
        "id": "PxyPUd2GDtXu",
        "outputId": "6f2cc9b5-174a-42dd-bb72-992d584a7d8f"
      },
      "outputs": [
        {
          "name": "stderr",
          "output_type": "stream",
          "text": [
            "WARNING:root:Lossy conversion from float64 to uint8. Range [0, 1]. Convert image to uint8 prior to saving to suppress this warning.\n",
            "WARNING:root:Lossy conversion from float64 to uint8. Range [0, 1]. Convert image to uint8 prior to saving to suppress this warning.\n",
            "WARNING:root:Lossy conversion from float64 to uint8. Range [0, 1]. Convert image to uint8 prior to saving to suppress this warning.\n",
            "WARNING:root:Lossy conversion from float64 to uint8. Range [0, 1]. Convert image to uint8 prior to saving to suppress this warning.\n"
          ]
        },
        {
          "name": "stdout",
          "output_type": "stream",
          "text": [
            "{0.501, 0.503, 0.504}\n",
            "{0.5, 0.505, 0.507, 0.506, 0.508}\n"
          ]
        }
      ],
      "source": [
        "if __name__ == \"__main__\":  # do not remove this line\n",
        "    \n",
        "    # QUESTION 1 TEST CODE\n",
        "    # The path of the malaria image file. Default to \"malaria-1.jpg\"\n",
        "    # Change it to \"malaria-1-small.jpg\" for quick debugging    \n",
        "    # image_file = \"malaria-1.jpg\"\n",
        "    image_file = \"malaria-1-small.jpg\"\n",
        "    \n",
        "    image_color = io.imread(image_file)\n",
        "    image_graytone,image_sobel1 = detect_edges(image_color)    \n",
        "    io.imsave(\"Q1_gray_sobel.jpg\",image_sobel1)\n",
        "    \n",
        "    # QUESTION 2 TEST CODE\n",
        "    image_sobel2 = binarize_edges(image_sobel1)\n",
        "    io.imsave(\"Q2_gray_sobel_T005.jpg\",image_sobel2)\n",
        "    # print(image_sobel2.shape)\n",
        "    # print(image_color.shape)\n",
        "    # # QUESTION 3 TEST CODE\n",
        "    image_sobel3 = cleanup(image_graytone, image_sobel2)\n",
        "    io.imsave(\"Q3_gray_sobel_T005_cleanup.jpg\",image_sobel3)\n",
        "    \n",
        "    # # QUESTION 4 TEST CODE\n",
        "    image_filled = fill_cells(image_sobel3)\n",
        "    io.imsave(\"Q4_gray_sobel_T005_cleanup_filled.jpg\",image_filled)\n",
        "    \n",
        "    # # QUESTION 5 TEST CODE\n",
        "    infected, not_infected = classify_cells(image_graytone, image_filled)\n",
        "    print(infected)\n",
        "    print(not_infected)\n",
        "    \n",
        "    # # QUESTION 6 TEST CODE\n",
        "    annotated_image = annotate_image(image_color, image_filled, \n",
        "                                     infected, not_infected)\n",
        "    io.imsave(\"Q6_annotated.jpg\", annotated_image)\n",
        "    "
      ]
    },
    {
      "cell_type": "code",
      "execution_count": null,
      "metadata": {
        "id": "NQXgH4txD_ee"
      },
      "outputs": [],
      "source": []
    }
  ],
  "metadata": {
    "colab": {
      "collapsed_sections": [],
      "name": "colab_malaria_cells.ipynb",
      "provenance": []
    },
    "kernelspec": {
      "display_name": "Python 3",
      "name": "python3"
    },
    "language_info": {
      "name": "python"
    }
  },
  "nbformat": 4,
  "nbformat_minor": 0
}
