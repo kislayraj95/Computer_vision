{
 "cells": [
  {
   "cell_type": "markdown",
   "metadata": {},
   "source": [
    "*  This program computes \n",
    "*    1) the 4 summary statistics\n",
    "*    2) the geometric means\n",
    "*    3) some functions of interest\n",
    "*    4) a test of normality  \n",
    "*    5) maximum drawdown, etc"
   ]
  },
  {
   "cell_type": "code",
   "execution_count": 1,
   "metadata": {},
   "outputs": [
    {
     "name": "stdout",
     "output_type": "stream",
     "text": [
      "(Monthly) Mean,   Std  \n",
      "\n",
      "        0.0095   0.0463\n",
      " \n",
      "(Annualized) Mean,   Std  \n",
      "\n",
      "        0.1136   0.1605\n",
      " \n"
     ]
    }
   ],
   "source": [
    "import pandas as pd                     # To load data, we use the package pandas\n",
    "import numpy as np\n",
    "import scipy.stats as ss\n",
    "import matplotlib.pyplot as plt\n",
    "import statsmodels.api as sm                      # We use this package to do estimation\n",
    "%matplotlib inline\n",
    "\n",
    "# Load the monthly return of SP500 from 01/1934 to 12/2011\n",
    "\n",
    "df = pd.read_excel('SP500.xlsx')  \n",
    "Re = df.loc[:,\"Return\"]\n",
    "\n",
    "# Compute the mean and variance\n",
    "\n",
    "mu = np.mean(Re)\n",
    "sig = np.var(Re)          # The variance, i.e., the square of the standard deviation\n",
    "std = np.sqrt(sig)        # The standard deviation\n",
    "sigma = std\n",
    "\n",
    "print('(Monthly) Mean,   Std  \\n')\n",
    "print('        {0:.4f}   {1:.4f}\\n '.format(mu, std))    \n",
    "\n",
    "amu = 12*mu\n",
    "astd = np.sqrt(12)*std\n",
    "print('(Annualized) Mean,   Std  \\n')\n",
    "print('        {0:.4f}   {1:.4f}\\n '.format(amu, astd))   "
   ]
  },
  {
   "cell_type": "code",
   "execution_count": 2,
   "metadata": {},
   "outputs": [
    {
     "name": "stdout",
     "output_type": "stream",
     "text": [
      "The monthly and annulaized Sharpe ratios \n",
      "\n",
      "          0.14   0.48  \n",
      "\n"
     ]
    }
   ],
   "source": [
    "# Compute the Sharpe Ratio\n",
    "\n",
    "df2 = pd.read_excel('Riskfree.xlsx') \n",
    "Rate = df2.loc[:,\"rate\"]\n",
    "\n",
    "ER = Re - Rate/100          # the excess return, i.e., return minus riskfree rate\n",
    "                              #  divided by 100 b/c the rate data is in percentage points\n",
    "mu2 = np.mean(ER)\n",
    "sig2 = np.var(ER)          # The variance, i.e., the square of the standard deviation\n",
    "std2 = np.sqrt(sig)        # The standard deviation\n",
    "\n",
    "Sharpe = mu2/std2\n",
    "\n",
    "print('The monthly and annulaized Sharpe ratios \\n')\n",
    "print('          {0:.2f}   {1:.2f}  \\n'.format(Sharpe, np.sqrt(12)*Sharpe)) "
   ]
  },
  {
   "cell_type": "code",
   "execution_count": 3,
   "metadata": {},
   "outputs": [],
   "source": [
    "# Data for Problem II \n",
    "\n",
    "df1 = pd.read_excel('SP500.xlsx')\n",
    "df2 = pd.read_excel('Riskfree.xlsx')\n",
    "df3 = pd.read_excel('IBM.xlsx')\n",
    "\n",
    "period1_sp500 = df1[(df1[\"Date\"] >= 19340101) & (df1[\"Date\"] <= 20061231)].reset_index()\n",
    "period2_sp500 = df1[(df1[\"Date\"] >= 20070101) & (df1[\"Date\"] <= 20111231)].reset_index()\n",
    "\n",
    "period1_riskfree = df2[(df2[\"Date\"] >= 20070101) & (df2[\"Date\"] <= 20111231)].reset_index()\n",
    "period2_riskfree = df2[(df2[\"Date\"] >= 20070101) & (df2[\"Date\"] <= 20111231)].reset_index()\n",
    "\n",
    "period1_ibm = df3[(df3[\"Date\"] >= 19340101) & (df3[\"Date\"] <= 20061231)].reset_index()\n",
    "period2_ibm = df3[(df3[\"Date\"] >= 20070101) & (df3[\"Date\"] <= 20111231)].reset_index()"
   ]
  },
  {
   "cell_type": "code",
   "execution_count": 4,
   "metadata": {},
   "outputs": [
    {
     "name": "stdout",
     "output_type": "stream",
     "text": [
      "Q1:\n",
      "Average monthly return of S&P500 of period 1: 0.0100\n",
      "Average monthly return of S&P500 of period 2: 0.0014\n",
      "\n",
      "Average monthly risk of S&P500 of period 1: 0.0457\n",
      "Average monthly risk of S&P500 of period 2: 0.0538\n",
      "\n",
      "Average monthly return of IBM of period 1: 0.0128\n",
      "Average monthly return of IBM of period 2: 0.0138\n",
      "\n",
      "Average monthly risk of IBM of period 1: 0.0657\n",
      "Average monthly risk of IBM of period 2: 0.0563\n",
      "\n"
     ]
    }
   ],
   "source": [
    "# 1)  What are the average monthly return and risk (sample mean and sample standard deviation) for each of the two assets?\n",
    "print(\"Q1:\")\n",
    "\n",
    "sp500_mean1 = np.mean(period1_sp500[\"Return\"])\n",
    "sp500_mean2 = np.mean(period2_sp500[\"Return\"])\n",
    "\n",
    "print(\"Average monthly return of S&P500 of period 1: {0:.4f}\".format(sp500_mean1))\n",
    "print(\"Average monthly return of S&P500 of period 2: {0:.4f}\".format(sp500_mean2))\n",
    "print()\n",
    "\n",
    "sp500_std1 = np.std(period1_sp500[\"Return\"])\n",
    "sp500_std2 = np.std(period2_sp500[\"Return\"])\n",
    "\n",
    "print(\"Average monthly risk of S&P500 of period 1: {0:.4f}\".format(sp500_std1))\n",
    "print(\"Average monthly risk of S&P500 of period 2: {0:.4f}\".format(sp500_std2))\n",
    "print()\n",
    "\n",
    "ibm_mean1 = np.mean(period1_ibm[\"Return\"])\n",
    "ibm_mean2 = np.mean(period2_ibm[\"Return\"])\n",
    "\n",
    "print(\"Average monthly return of IBM of period 1: {0:.4f}\".format(ibm_mean1))\n",
    "print(\"Average monthly return of IBM of period 2: {0:.4f}\".format(ibm_mean2))\n",
    "print()\n",
    "\n",
    "ibm_std1 = np.std(period1_ibm[\"Return\"])\n",
    "ibm_std2 = np.std(period2_ibm[\"Return\"])\n",
    "\n",
    "print(\"Average monthly risk of IBM of period 1: {0:.4f}\".format(ibm_std1))\n",
    "print(\"Average monthly risk of IBM of period 2: {0:.4f}\".format(ibm_std2))\n",
    "print()"
   ]
  },
  {
   "cell_type": "code",
   "execution_count": 5,
   "metadata": {},
   "outputs": [
    {
     "name": "stdout",
     "output_type": "stream",
     "text": [
      "Q2:\n",
      "Sharpe ratio of period 1 for S&P500: 0.1493\n",
      "\n",
      "Sharpe ratio of period 2 for S&P500: 0.0245\n",
      "\n",
      "Sharpe ratio of period 1 for IBM: 0.1461\n",
      "\n",
      "Sharpe ratio of period 2 for IBM: 0.2431\n",
      "\n"
     ]
    }
   ],
   "source": [
    "# 2)  What is the reward per unit of risk (excess mean/std, known as Sharpe Ratio)?\n",
    "print(\"Q2:\")\n",
    "\n",
    "rate = df2.loc[:,\"rate\"]\n",
    "\n",
    "sp_ER1 = period1_sp500[\"Return\"] - rate/100\n",
    "sp_mu1 = np.mean(sp_ER1)\n",
    "sp_std1 = np.std(sp_ER1)\n",
    "sp_sharpe1 = sp_mu1/sp_std1\n",
    "print(\"Sharpe ratio of period 1 for S&P500: {0:.4f}\".format(sp_sharpe1))\n",
    "print()\n",
    "\n",
    "sp_ER2 = period2_sp500[\"Return\"] - rate/100\n",
    "sp_mu2 = np.mean(sp_ER2)\n",
    "sp_std2 = np.std(sp_ER2)\n",
    "sp_sharpe2 = sp_mu2/sp_std2\n",
    "print(\"Sharpe ratio of period 2 for S&P500: {0:.4f}\".format(sp_sharpe2))\n",
    "print()\n",
    "\n",
    "\n",
    "ibm_ER1 = period1_ibm[\"Return\"] - rate/100\n",
    "ibm_mu1 = np.mean(ibm_ER1)\n",
    "ibm_std1 = np.std(ibm_ER1)\n",
    "ibm_sharpe1 = ibm_mu1/ibm_std1\n",
    "print(\"Sharpe ratio of period 1 for IBM: {0:.4f}\".format(ibm_sharpe1))\n",
    "print()\n",
    "\n",
    "ibm_ER2 = period2_ibm[\"Return\"] - rate/100\n",
    "ibm_mu2 = np.mean(ibm_ER2)\n",
    "ibm_std2 = np.std(ibm_ER2)\n",
    "ibm_sharpe2 = ibm_mu2/ibm_std2\n",
    "print(\"Sharpe ratio of period 2 for IBM: {0:.4f}\".format(ibm_sharpe2))\n",
    "print()\n"
   ]
  },
  {
   "cell_type": "code",
   "execution_count": 6,
   "metadata": {},
   "outputs": [
    {
     "name": "stdout",
     "output_type": "stream",
     "text": [
      "Q3:\n",
      "The Sharpe ratio of IBM is higher than S&P500.\n",
      "\n"
     ]
    }
   ],
   "source": [
    "# 3) Which of the equity assets has a higher Sharpe Ratio ?\n",
    "print(\"Q3:\")\n",
    "\n",
    "if ibm_sharpe1 + ibm_sharpe2 > sp_sharpe1 + sp_sharpe2:\n",
    "    print(\"The Sharpe ratio of IBM is higher than S&P500.\")\n",
    "else:\n",
    "    print(\"The Sharpe ratio of SP500 is higher than IBM.\")\n",
    "\n",
    "print()"
   ]
  },
  {
   "cell_type": "code",
   "execution_count": 7,
   "metadata": {},
   "outputs": [
    {
     "name": "stdout",
     "output_type": "stream",
     "text": [
      "Q4:\n",
      "Wealth if 1000$ invested in S&P500 January 2007: 998.07$\n",
      "\n",
      "Wealth if 1000$ invested IBM in January 2007: 2065.71$\n",
      "\n"
     ]
    }
   ],
   "source": [
    "# 4)  If you invest $1,000 in IBM and S&P500 in January 2007, respectively,  what will be your wealth if you hold it to the end of the period?\n",
    "print(\"Q4:\")\n",
    "\n",
    "sp500_value = 1000\n",
    "len_period2_sp500 = len(period2_sp500)\n",
    "for i in range(len_period2_sp500):\n",
    "    sp500_value = sp500_value * (1 + period2_sp500[\"Return\"][i])\n",
    "\n",
    "print(\"Wealth if 1000$ invested in S&P500 January 2007: {0:.2f}$\".format(sp500_value))\n",
    "print()\n",
    "\n",
    "ibm_value = 1000\n",
    "len_period2_ibm = len(period2_ibm)\n",
    "for i in range(len_period2_ibm):\n",
    "    ibm_value = ibm_value * (1 + period2_ibm[\"Return\"][i])\n",
    "\n",
    "print(\"Wealth if 1000$ invested IBM in January 2007: {0:.2f}$\".format(ibm_value))\n",
    "print()"
   ]
  },
  {
   "cell_type": "code",
   "execution_count": 8,
   "metadata": {},
   "outputs": [
    {
     "name": "stdout",
     "output_type": "stream",
     "text": [
      "Q5:\n",
      "\n",
      "IBM:\n",
      "\n",
      "  skew,    kurt by using scipy.stats \n",
      "\n",
      "  0.2342    5.1142\n",
      " \n",
      "\n",
      "S&P500:\n",
      "\n",
      "  skew,     kurt by using scipy.stats \n",
      "\n",
      "  -0.4551    6.3448\n",
      " \n"
     ]
    }
   ],
   "source": [
    "# 5) What are the skewness and kurtosis of IBM and S&P500?\n",
    "print(\"Q5:\")\n",
    "print()\n",
    "\n",
    "# Compute the skewness and kurtosis of \"IBM\"\n",
    "\n",
    "ibm_re = df3.loc[:,\"Return\"]    # Get the return of IBM\n",
    "\n",
    "ibm_skew = ss.skew(ibm_re)\n",
    "ibm_kurt = 3 + ss.kurtosis(ibm_re) # Add 3 because code subtracts it\n",
    "print(\"IBM:\")\n",
    "print('\\n  skew,    kurt by using scipy.stats \\n')\n",
    "print('  {0:.4f}    {1:.4f}\\n '.format(ibm_skew, ibm_kurt))\n",
    "\n",
    "print()\n",
    "\n",
    "# Compute the skewness and kurtosis of \"S&P500\"\n",
    "\n",
    "sp_re = df1.loc[:,\"Return\"]    # Get the return of S&P500\n",
    "\n",
    "sp_skew = ss.skew(Re)\n",
    "sp_kurt = 3 + ss.kurtosis(Re) # Add 3 because code subtracts it\n",
    "print(\"S&P500:\")\n",
    "print('\\n  skew,     kurt by using scipy.stats \\n')\n",
    "print('  {0:.4f}    {1:.4f}\\n '.format(sp_skew, sp_kurt))"
   ]
  },
  {
   "cell_type": "code",
   "execution_count": 9,
   "metadata": {},
   "outputs": [
    {
     "data": {
      "text/plain": [
       "(array([  3.,   1.,  10.,  66., 276., 432., 132.,  13.,   2.,   1.]),\n",
       " array([-2.54460e-01, -2.03592e-01, -1.52724e-01, -1.01856e-01,\n",
       "        -5.09880e-02, -1.20000e-04,  5.07480e-02,  1.01616e-01,\n",
       "         1.52484e-01,  2.03352e-01,  2.54220e-01]),\n",
       " <BarContainer object of 10 artists>)"
      ]
     },
     "execution_count": 9,
     "metadata": {},
     "output_type": "execute_result"
    },
    {
     "data": {
      "image/png": "[encoded data removed]",
      "text/plain": [
       "<Figure size 432x288 with 1 Axes>"
      ]
     },
     "metadata": {
      "needs_background": "light"
     },
     "output_type": "display_data"
    }
   ],
   "source": [
    "# 6) Is S&P500 closer to the normality assumption ?\n",
    "plt.hist(df1[\"Return\"])"
   ]
  },
  {
   "cell_type": "markdown",
   "metadata": {},
   "source": [
    "### Ans (6): Yes S&P500 is closer to the normality assumption because the histogram is somehow bell shaped."
   ]
  },
  {
   "cell_type": "code",
   "execution_count": null,
   "metadata": {},
   "outputs": [],
   "source": [
    "# Compute the skewness and kurtosis\n",
    "\n",
    "skew=0;                  # initialize it be zero\n",
    "kurt=0;\n",
    "\n",
    "T = len(df)             # Get the length, # of obvs (the headers of the Excel doesn't count)\n",
    "\n",
    "for i in range(T):\n",
    "    skew=skew + pow(Re[i]-mu,3)          # sums the 3rd power terms successively\n",
    "    kurt=kurt + pow(Re[i]-mu,4)\n",
    "\n",
    "skew=( skew / pow(sigma,3) ) / T               # take the average\n",
    "kurt=( kurt / pow(sigma,4) ) / T \n",
    "\n",
    "print('(Monthly) skew,   kurt \\n')\n",
    "print('        {0:.4f}   {1:.4f}\\n '.format(skew, kurt))    \n",
    "\n",
    "# Use scipy.stats package as an alternative \n",
    "\n",
    "skew2 = ss.skew(Re)\n",
    "kurt2 = ss.kurtosis(Re)\n",
    "print('\\n  skew,   kurt by using scipy.stats \\n')\n",
    "print('        {0:.4f}   {1:.4f}\\n '.format(skew, kurt))    \n",
    "\n",
    "# Use scipy.stats package to get unbiased estimates   \n",
    "#  like standard deviation, deviding by T-1 is unbiased. \n",
    "#    but here dividing some other numbers, not T-1, to make them unbiased\n",
    "\n",
    "skew3 = ss.skew(Re,bias=False)\n",
    "kurt3 = 3 + ss.kurtosis(Re,bias=False)    # add 3 bc the code substracts it.\n",
    "print('\\n  skew,   kurt by using scipy.stats \\n')\n",
    "print('        {0:.4f}   {1:.4f}\\n '.format(skew3, kurt3)) \n"
   ]
  },
  {
   "cell_type": "code",
   "execution_count": null,
   "metadata": {},
   "outputs": [],
   "source": [
    "# Compute the 95% confidence for the skewness and kurtosis\n",
    "#   Note first the 95% interval of the normal is [-1.96, 1.96],\n",
    "#     which can be computed by:   x=norminv([0.025 0.975],0,1)\n",
    "    \n",
    "skewA=-1.96*np.sqrt(6/T)\n",
    "skewB=1.96*np.sqrt(6/T)\n",
    " \n",
    "kurtA=-1.96*np.sqrt(24/T)+3\n",
    "kurtB=1.96*np.sqrt(24/T)+3\n",
    "\n",
    "print(' Confidence interval for skew  \\n')\n",
    "print('        {0:.4f}   {1:.4f}\\n '.format(skewA, skewB))\n",
    "print(' Confidence interval for kurt \\n')\n",
    "print('        {0:.4f}   {1:.4f}\\n '.format(kurtA, kurtB))    \n",
    "\n",
    "#\n",
    "print(' Recall the estimated skew,   kurt \\n')\n",
    "print('        {0:.4f}   {1:.4f}\\n '.format(skew, kurt))    \n"
   ]
  },
  {
   "cell_type": "code",
   "execution_count": null,
   "metadata": {},
   "outputs": [],
   "source": [
    "# Compute the wealth (accu return) and geometric mean \n",
    "\n",
    "Value = 1\n",
    "\n",
    "for i in range(T):\n",
    "    Value = Value * (1 + Re[i])\n",
    "\n",
    "gmu=pow(Value, 1/T) - 1 \n",
    "\n",
    "\n",
    "print('The accumulative returns \\n')\n",
    "print('          {0:.2f}\\n'.format(Value))   \n",
    "\n",
    "print('The sample mean and geometric mean  \\n')\n",
    "print('        {0:.4f}   {1:.4f}\\n '.format(mu, gmu))    "
   ]
  },
  {
   "cell_type": "code",
   "execution_count": null,
   "metadata": {},
   "outputs": [],
   "source": [
    "# Q1:  Percentage of up returns?\n",
    "     \n",
    "Up = 0\n",
    "\n",
    "for j in range(T): \n",
    "    if Re[j]>0:\n",
    "        Up = Up+1\n",
    "\n",
    "UpPer = Up/T\n",
    "\n",
    "print('The percentage of up months \\n')\n",
    "print('          {0:.2f} \\n'.format(UpPer)) "
   ]
  },
  {
   "cell_type": "code",
   "execution_count": null,
   "metadata": {},
   "outputs": [],
   "source": [
    "# Q2: What is the accumulative return if we miss 5% of the best returns ?\n",
    "# Assuming earning the average riskfree rate of 4%/12 in those missing months                        \n",
    "                        \n",
    "ReturnS = sorted(Re)    # Sort the returns in increasing order\n",
    "\n",
    "T1 = .05 * T             #  5% of the sample\n",
    "T1 = round(T1)           # Round the number to an integer\n",
    "\n",
    "Value1 = 1\n",
    "\n",
    "for i in range(T-T1):\n",
    "    Value1 = Value1 * (1 + ReturnS[i])\n",
    "\n",
    "for i in range(T-T1, T):\n",
    "    Value1 = Value1 * (1 + 0.04/12)\n",
    "\n",
    "print('Q2: The accumulative return if we miss 5% of the best months? \\n')\n",
    "print('          {0:.2f}\\n'.format(Value1))"
   ]
  },
  {
   "cell_type": "code",
   "execution_count": null,
   "metadata": {},
   "outputs": [],
   "source": [
    "# Q3: What is the max drawdown, the largest % drop from a previous peak\n",
    "\n",
    "       #Note:  We just copy and paste the algorithm (see the zip file) and take its validity\n",
    "           # for granted, as in most cases in practice for well established theories or formulas.\n",
    "       # Since the algorithm requires prices as input, we translate the\n",
    "       # returns into prices first (the starting price can be set as 100)\n",
    " \n",
    "P = 100*np.ones((T,1))     # initial values\n",
    "\n",
    "MDD = 0\n",
    "Worst = 0\n",
    "             # using the algorithm in the file\n",
    "max = -99\n",
    "Worst = np.amin(Re)         # the minimum of an array, the return here\n",
    "\n",
    "Ptemp = 100                # need a temp to execute P[j+1]=P[j]*(1+Re[j]), so that\n",
    "                             # P[j+1] is stored as P[j], to avoid index out of range in Python\n",
    "\n",
    "for j in range(T): \n",
    "    Ptemp=Ptemp*(1+Re[j])        # convert to prices;\n",
    "    P[j]=Ptemp   \n",
    "    if P[j]>max:\n",
    "        max=P[j]\n",
    "    DD=100*(max-P[j]) / max\n",
    "    if DD>MDD:\n",
    "        MDD=DD\n",
    "        \n",
    "MDD = MDD / 100             # in percentage \n",
    "print(MDD)"
   ]
  },
  {
   "cell_type": "code",
   "execution_count": null,
   "metadata": {},
   "outputs": [],
   "source": [
    "# Simulate T normal random varables with the same mean and varance  \n",
    "\n",
    "e = np.random.randn(T,1)     # Generate data from N(0,1), T by 1  \n",
    "\n",
    "RN = np.ones((T,1))          # create the storage\n",
    "\n",
    "for i in range(T):           # transform the data so that its mean and variance match the mkt\n",
    "     RN[i]=mu + sigma*e[i]          # RN = mu*np.ones((T,1)) + sigma*e does the same, but \n",
    "                                    # month by month may be easier to understand\n",
    " \n"
   ]
  },
  {
   "cell_type": "code",
   "execution_count": null,
   "metadata": {},
   "outputs": [],
   "source": [
    "# plot the returns and simulated returns\n",
    "\n",
    "p=plt.plot(Re)\n",
    "p1 = plt.plot(RN)"
   ]
  },
  {
   "cell_type": "code",
   "execution_count": null,
   "metadata": {},
   "outputs": [],
   "source": [
    "# plot the histogram of returns and simulated returns\n",
    "\n",
    "p=plt.hist(Re)\n",
    "p1 = plt.hist(RN)"
   ]
  },
  {
   "cell_type": "code",
   "execution_count": null,
   "metadata": {},
   "outputs": [],
   "source": [
    "# plot the index and its 12-month moving-average  \n",
    " \n",
    "df['12MA'] = df['Index'].rolling(window=12,min_periods=0).mean()\n",
    "                # this will create a column, named as 12MA, from the index by taking the average\n",
    "                       # of the past 12 month data (including current month)\n",
    "                # At the firtst to 11 month, impossible to do it. min_periods=0 indicate repplaing them\n",
    "                   # by using the average of available original data\n",
    "                \n",
    "print(df.head())\n",
    "print(df.tail())\n",
    "\n",
    "p2= plt.plot(df['Index'])\n",
    "p3 = plt.plot(df['12MA'])"
   ]
  },
  {
   "cell_type": "code",
   "execution_count": null,
   "metadata": {},
   "outputs": [],
   "source": [
    "# plot a subperiod\n",
    " \n",
    "\n",
    "p2= plt.plot(df.loc[0:100,'Index'], label='SP500 Index')\n",
    "p3 = plt.plot(df.loc[0:100,'12MA'], label='12 month MA')\n",
    "\n",
    "plt.xlabel('Month')\n",
    "plt.ylabel('Index Level')\n",
    "plt.title('SP500 and \\n Its 12-month MA')\n",
    "plt.legend()\n",
    "plt.show()\n"
   ]
  },
  {
   "cell_type": "code",
   "execution_count": null,
   "metadata": {},
   "outputs": [],
   "source": []
  },
  {
   "cell_type": "code",
   "execution_count": null,
   "metadata": {},
   "outputs": [],
   "source": []
  }
 ],
 "metadata": {
  "anaconda-cloud": {},
  "kernelspec": {
   "display_name": "Python 3",
   "language": "python",
   "name": "python3"
  },
  "language_info": {
   "codemirror_mode": {
    "name": "ipython",
    "version": 3
   },
   "file_extension": ".py",
   "mimetype": "text/x-python",
   "name": "python",
   "nbconvert_exporter": "python",
   "pygments_lexer": "ipython3",
   "version": "3.8.5"
  }
 },
 "nbformat": 4,
 "nbformat_minor": 1
}
